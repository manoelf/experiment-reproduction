{
  "nbformat": 4,
  "nbformat_minor": 0,
  "metadata": {
    "colab": {
      "name": "experimento_lda.ipynb",
      "provenance": [],
      "toc_visible": true
    },
    "kernelspec": {
      "display_name": "Python 3",
      "language": "python",
      "name": "python3"
    },
    "language_info": {
      "codemirror_mode": {
        "name": "ipython",
        "version": 3
      },
      "file_extension": ".py",
      "mimetype": "text/x-python",
      "name": "python",
      "nbconvert_exporter": "python",
      "pygments_lexer": "ipython3",
      "version": "3.8.5"
    }
  },
  "cells": [
    {
      "cell_type": "markdown",
      "metadata": {
        "id": "YWeOFrtoxoti"
      },
      "source": [
        "# Explicação sobre o script de Experimento do LDA com Regressão Logística\n",
        "Este notebook contém explicações sobre as etapas utilizadas para se treinar e calcular as métricas de qualidade dos modelos LDA e Regressão Logística, sendo utilizados com o objetivo de encontrar similaridade entre dois textos. Este notebook foi feito considerando apenas uma combinação de parâmetros, para executar todo o experimento seria necessário ter um loop executando estas etapas para todas as combinações de parâmetros"
      ]
    },
    {
      "cell_type": "markdown",
      "metadata": {
        "id": "TVLvPiakxoto"
      },
      "source": [
        "## Objetivo do Experimento"
      ]
    },
    {
      "cell_type": "markdown",
      "metadata": {
        "id": "7hLce7mJxotp"
      },
      "source": [
        "A ideia do experimento é calcular a similaridade entre dois documentos e classificá-las em classes de similaridade.\n",
        "Para calcular a similaridade, precisamos transformar os documentos para um formato numérico. O vetorizador e o modelo LDA são utilizados para isso.\n",
        "\n",
        "O vetorizador transforma o texto em um vetor de números, com os quais são possíveis fazer cálculos. Cada documento vira um vetor de números, em que cada posição representa uma palavra dentro do conjunto de todas as palavras contidas em todos os documentos. O LDA reduz o tamanho desse vetor para um tamanho bem menor, agrupando as palavras em grupos. Neste novo vetor de números, ao invés de cada posição representar uma palavra, cada posição representa um grupo de palavras.\n",
        "\n",
        "Depois que os documentos são vetorizados, é possível fazer o cálculo de similaridade entre documentos.\n",
        "Feito o cálculo da similaridade, passamos para a regressão logistica aprender quais distâncias pertencem a cada nível de similaridade"
      ]
    },
    {
      "cell_type": "markdown",
      "metadata": {
        "id": "It0vAFx4xotr"
      },
      "source": [
        "## Carregar dados de treino e de teste\n",
        "Os dados de treino e de teste são um csv que contém, em cada linha, os IDs de um par de casos e o nível de similaridade entre eles. Queremos utilizar as distâncias entre os pares e as classes de similaridade para que a regressão logística aprenda quais similaridades pertencem a cada classe.\n",
        "As etapas de vetorização, executar LDA são necessárias para se calcular as distâncias.\n",
        "A leitura dos dados de treino e teste é realizada antes porque os dados de treino e teste são os mesmos, independente dos parâmetros. E, por causa disso, essa etapa só é executada uma vez"
      ]
    },
    {
      "cell_type": "code",
      "metadata": {
        "id": "OjTzXDE6xots"
      },
      "source": [
        "import pandas as pd"
      ],
      "execution_count": null,
      "outputs": []
    },
    {
      "cell_type": "code",
      "metadata": {
        "colab": {
          "base_uri": "https://localhost:8080/"
        },
        "id": "82CPxWtuBBOx",
        "outputId": "53930606-0e9d-4032-895f-7ff3239aef16"
      },
      "source": [
        "from google.colab import drive\n",
        "drive.mount(\"/content/gdrive\")"
      ],
      "execution_count": null,
      "outputs": [
        {
          "output_type": "stream",
          "text": [
            "Drive already mounted at /content/gdrive; to attempt to forcibly remount, call drive.mount(\"/content/gdrive\", force_remount=True).\n"
          ],
          "name": "stdout"
        }
      ]
    },
    {
      "cell_type": "code",
      "metadata": {
        "colab": {
          "base_uri": "https://localhost:8080/"
        },
        "id": "bxcdubhKBG6u",
        "outputId": "1857352d-504f-4ca2-8f6b-09ec99d85b1f"
      },
      "source": [
        "dados = pd.read_csv('/content/gdrive/My Drive/Colab Notebooks/data/bg_report_pares.csv')\n",
        "dados_text = pd.read_csv('/content/gdrive/My Drive/Colab Notebooks/data/bg_report.csv')\n",
        "\n",
        "dados = dados.sample(frac=1).reset_index(drop=True)\n",
        "\n",
        "dados_treino = dados.sample(frac=0.8).reset_index(drop=True)#\n",
        "dados_teste = dados.drop(dados_treino.index)\n",
        "print(len(dados_treino))\n",
        "print(len(dados_teste))\n",
        "print(len(dados))"
      ],
      "execution_count": null,
      "outputs": [
        {
          "output_type": "stream",
          "text": [
            "75759\n",
            "18940\n",
            "94699\n"
          ],
          "name": "stdout"
        }
      ]
    },
    {
      "cell_type": "code",
      "metadata": {
        "id": "J0v7Vjd_xots"
      },
      "source": [
        "#dados_treino = pd.read_csv('./dados/dados_treino_teste/dados_treino.csv')\n",
        "#dados_teste = pd.read_csv('./dados/dados_treino_teste/dados_teste.csv')\n",
        "#print(len(dados_treino))\n",
        "#print(len(dados_teste))"
      ],
      "execution_count": null,
      "outputs": []
    },
    {
      "cell_type": "code",
      "metadata": {
        "colab": {
          "base_uri": "https://localhost:8080/"
        },
        "id": "GDnyMWOxxotv",
        "outputId": "401297dd-a251-42d2-9c9a-823177e9edc2"
      },
      "source": [
        "dados_treino.dtypes"
      ],
      "execution_count": null,
      "outputs": [
        {
          "output_type": "execute_result",
          "data": {
            "text/plain": [
              "Issue_id            int64\n",
              "Duplicated_issue    int64\n",
              "label               int64\n",
              "dtype: object"
            ]
          },
          "metadata": {
            "tags": []
          },
          "execution_count": 5
        }
      ]
    },
    {
      "cell_type": "code",
      "metadata": {
        "colab": {
          "base_uri": "https://localhost:8080/"
        },
        "id": "Dj8K5w4Yxotw",
        "outputId": "0c16cecd-11d2-41a3-9ca4-719d001e0d07"
      },
      "source": [
        "dados_teste.dtypes"
      ],
      "execution_count": null,
      "outputs": [
        {
          "output_type": "execute_result",
          "data": {
            "text/plain": [
              "Issue_id            int64\n",
              "Duplicated_issue    int64\n",
              "label               int64\n",
              "dtype: object"
            ]
          },
          "metadata": {
            "tags": []
          },
          "execution_count": 6
        }
      ]
    },
    {
      "cell_type": "code",
      "metadata": {
        "colab": {
          "base_uri": "https://localhost:8080/",
          "height": 204
        },
        "id": "lEPacjmOxotx",
        "outputId": "cf8b2916-841a-46b1-f87c-b092f411b1a1"
      },
      "source": [
        "dados_treino.head()"
      ],
      "execution_count": null,
      "outputs": [
        {
          "output_type": "execute_result",
          "data": {
            "text/html": [
              "<div>\n",
              "<style scoped>\n",
              "    .dataframe tbody tr th:only-of-type {\n",
              "        vertical-align: middle;\n",
              "    }\n",
              "\n",
              "    .dataframe tbody tr th {\n",
              "        vertical-align: top;\n",
              "    }\n",
              "\n",
              "    .dataframe thead th {\n",
              "        text-align: right;\n",
              "    }\n",
              "</style>\n",
              "<table border=\"1\" class=\"dataframe\">\n",
              "  <thead>\n",
              "    <tr style=\"text-align: right;\">\n",
              "      <th></th>\n",
              "      <th>Issue_id</th>\n",
              "      <th>Duplicated_issue</th>\n",
              "      <th>label</th>\n",
              "    </tr>\n",
              "  </thead>\n",
              "  <tbody>\n",
              "    <tr>\n",
              "      <th>0</th>\n",
              "      <td>528102</td>\n",
              "      <td>266593</td>\n",
              "      <td>0</td>\n",
              "    </tr>\n",
              "    <tr>\n",
              "      <th>1</th>\n",
              "      <td>797731</td>\n",
              "      <td>511601</td>\n",
              "      <td>0</td>\n",
              "    </tr>\n",
              "    <tr>\n",
              "      <th>2</th>\n",
              "      <td>414287</td>\n",
              "      <td>615052</td>\n",
              "      <td>0</td>\n",
              "    </tr>\n",
              "    <tr>\n",
              "      <th>3</th>\n",
              "      <td>633680</td>\n",
              "      <td>214836</td>\n",
              "      <td>0</td>\n",
              "    </tr>\n",
              "    <tr>\n",
              "      <th>4</th>\n",
              "      <td>241116</td>\n",
              "      <td>355772</td>\n",
              "      <td>0</td>\n",
              "    </tr>\n",
              "  </tbody>\n",
              "</table>\n",
              "</div>"
            ],
            "text/plain": [
              "   Issue_id  Duplicated_issue  label\n",
              "0    528102            266593      0\n",
              "1    797731            511601      0\n",
              "2    414287            615052      0\n",
              "3    633680            214836      0\n",
              "4    241116            355772      0"
            ]
          },
          "metadata": {
            "tags": []
          },
          "execution_count": 7
        }
      ]
    },
    {
      "cell_type": "code",
      "metadata": {
        "colab": {
          "base_uri": "https://localhost:8080/"
        },
        "id": "e2b0_tQGx77g",
        "outputId": "21c47a84-068b-43f3-c2a4-f92be0bf3d2d"
      },
      "source": [
        "dados_teste.head()\n",
        "dados_treino.shape"
      ],
      "execution_count": null,
      "outputs": [
        {
          "output_type": "execute_result",
          "data": {
            "text/plain": [
              "(75759, 3)"
            ]
          },
          "metadata": {
            "tags": []
          },
          "execution_count": 8
        }
      ]
    },
    {
      "cell_type": "code",
      "metadata": {
        "colab": {
          "base_uri": "https://localhost:8080/"
        },
        "id": "b2JNJC8nyQMj",
        "outputId": "043d8ffc-b4a7-4e17-bede-1d5880aed1b3"
      },
      "source": [
        "dados_teste.shape"
      ],
      "execution_count": null,
      "outputs": [
        {
          "output_type": "execute_result",
          "data": {
            "text/plain": [
              "(18940, 3)"
            ]
          },
          "metadata": {
            "tags": []
          },
          "execution_count": 9
        }
      ]
    },
    {
      "cell_type": "markdown",
      "metadata": {
        "id": "EGNWRXyCxoty"
      },
      "source": [
        "## Parâmetros\n",
        "Esta é a combinação de parâmetros a ser utilizada neste exemplo:"
      ]
    },
    {
      "cell_type": "code",
      "metadata": {
        "id": "7AkTLGN3xoty"
      },
      "source": [
        "parametros_vetorizador = {\n",
        "        \"cenario\": \"pp1\",\n",
        "        \"tipo_vetorizador\": \"tf\",\n",
        "        \"min_df\": 1,\n",
        "        \"max_df\": 1.0,\n",
        "        \"ngram_range\": (1,1)\n",
        "}   \n",
        "parametros_modelo = {\n",
        "        \"n_components\": 10,\n",
        "        \"alfa\": 0.05,\n",
        "        \"beta\": 0.01\n",
        "}\n",
        "parametros_regr_log = {\n",
        "    \"tipo_distancia\": \"cosseno\",\n",
        "    \"metodo_balanceamento\": \"smote\"\n",
        "}"
      ],
      "execution_count": null,
      "outputs": []
    },
    {
      "cell_type": "code",
      "metadata": {
        "id": "MUL6taXEItWy"
      },
      "source": [
        "import nltk\n",
        "from nltk.corpus import stopwords\n",
        "from nltk.stem import PorterStemmer, SnowballStemmer, WordNetLemmatizer\n",
        "from nltk.tokenize import sent_tokenize, word_tokenize"
      ],
      "execution_count": null,
      "outputs": []
    },
    {
      "cell_type": "code",
      "metadata": {
        "colab": {
          "base_uri": "https://localhost:8080/"
        },
        "id": "FrCF2QGeIvi0",
        "outputId": "7fe2fa6f-80d6-4818-83dc-f7fa515d3745"
      },
      "source": [
        "nltk.download('stopwords')\n",
        "nltk.download('wordnet')\n",
        "nltk.download('punkt')\n",
        "nltk.download('averaged_perceptron_tagger')"
      ],
      "execution_count": null,
      "outputs": [
        {
          "output_type": "stream",
          "text": [
            "[nltk_data] Downloading package stopwords to /root/nltk_data...\n",
            "[nltk_data]   Package stopwords is already up-to-date!\n",
            "[nltk_data] Downloading package wordnet to /root/nltk_data...\n",
            "[nltk_data]   Package wordnet is already up-to-date!\n",
            "[nltk_data] Downloading package punkt to /root/nltk_data...\n",
            "[nltk_data]   Package punkt is already up-to-date!\n",
            "[nltk_data] Downloading package averaged_perceptron_tagger to\n",
            "[nltk_data]     /root/nltk_data...\n",
            "[nltk_data]   Package averaged_perceptron_tagger is already up-to-\n",
            "[nltk_data]       date!\n"
          ],
          "name": "stdout"
        },
        {
          "output_type": "execute_result",
          "data": {
            "text/plain": [
              "True"
            ]
          },
          "metadata": {
            "tags": []
          },
          "execution_count": 12
        }
      ]
    },
    {
      "cell_type": "markdown",
      "metadata": {
        "id": "Ffh2yvGACDvx"
      },
      "source": [
        "Preprocessando os dados"
      ]
    },
    {
      "cell_type": "code",
      "metadata": {
        "id": "RD5ZfHRmCC_X"
      },
      "source": [
        "#Lower case transformation\n",
        "dados_text.loc[:,\"Description\"] = dados_text.Description.apply(lambda x : str.lower(x))"
      ],
      "execution_count": null,
      "outputs": []
    },
    {
      "cell_type": "code",
      "metadata": {
        "id": "Zj_VEwdIH8qj"
      },
      "source": [
        "#Tokenizer\n",
        "dados_text.loc[:,\"Description\"] = dados_text.Description.apply(lambda x : word_tokenize(x))"
      ],
      "execution_count": null,
      "outputs": []
    },
    {
      "cell_type": "code",
      "metadata": {
        "id": "XVmgWmkrH_mp"
      },
      "source": [
        "#Removing stopwords\n",
        "stop_words = set(stopwords.words(\"english\"))\n",
        "dados_text.loc[:,\"Description\"] = dados_text.Description.apply(lambda x : [word for word in x if word not in stop_words])"
      ],
      "execution_count": null,
      "outputs": []
    },
    {
      "cell_type": "code",
      "metadata": {
        "id": "SBupY-z5IW5k"
      },
      "source": [
        "#Lemmatizing \n",
        "lemmatizer = WordNetLemmatizer()\n",
        "dados_text.loc[:,\"Description\"] =  dados_text.Description.apply(lambda x : [lemmatizer.lemmatize(word) for word in x ])"
      ],
      "execution_count": null,
      "outputs": []
    },
    {
      "cell_type": "markdown",
      "metadata": {
        "id": "ZQRGh5G4xotz"
      },
      "source": [
        "## Lendo os textos pré-processados dos RDFs dos casos\n",
        "O arquivo a ser lido varia de acordo com o cenário contido nos parâmetros"
      ]
    },
    {
      "cell_type": "code",
      "metadata": {
        "colab": {
          "base_uri": "https://localhost:8080/"
        },
        "id": "TMg7-qd0xot0",
        "scrolled": false,
        "outputId": "59624a95-7516-4246-d829-b5cbb3b7527d"
      },
      "source": [
        "cenario = parametros_vetorizador.get('cenario')\n",
        "textos_preprocessados = dados_text\n",
        "textos_preprocessados.dtypes"
      ],
      "execution_count": null,
      "outputs": [
        {
          "output_type": "execute_result",
          "data": {
            "text/plain": [
              "Issue_id        int64\n",
              "Description    object\n",
              "dtype: object"
            ]
          },
          "metadata": {
            "tags": []
          },
          "execution_count": 17
        }
      ]
    },
    {
      "cell_type": "code",
      "metadata": {
        "colab": {
          "base_uri": "https://localhost:8080/",
          "height": 204
        },
        "id": "60Jev0RKxot1",
        "outputId": "7131ba32-6f34-4b96-9384-a081d779535e"
      },
      "source": [
        "textos_preprocessados.head()"
      ],
      "execution_count": null,
      "outputs": [
        {
          "output_type": "execute_result",
          "data": {
            "text/html": [
              "<div>\n",
              "<style scoped>\n",
              "    .dataframe tbody tr th:only-of-type {\n",
              "        vertical-align: middle;\n",
              "    }\n",
              "\n",
              "    .dataframe tbody tr th {\n",
              "        vertical-align: top;\n",
              "    }\n",
              "\n",
              "    .dataframe thead th {\n",
              "        text-align: right;\n",
              "    }\n",
              "</style>\n",
              "<table border=\"1\" class=\"dataframe\">\n",
              "  <thead>\n",
              "    <tr style=\"text-align: right;\">\n",
              "      <th></th>\n",
              "      <th>Issue_id</th>\n",
              "      <th>Description</th>\n",
              "    </tr>\n",
              "  </thead>\n",
              "  <tbody>\n",
              "    <tr>\n",
              "      <th>0</th>\n",
              "      <td>10954</td>\n",
              "      <td>[dialup, property, profile, exposed, prefs, pa...</td>\n",
              "    </tr>\n",
              "    <tr>\n",
              "      <th>1</th>\n",
              "      <td>14871</td>\n",
              "      <td>[please, add, match, whole, word, option, brow...</td>\n",
              "    </tr>\n",
              "    <tr>\n",
              "      <th>2</th>\n",
              "      <td>19118</td>\n",
              "      <td>[would, really, like, plug-in, manager, browse...</td>\n",
              "    </tr>\n",
              "    <tr>\n",
              "      <th>3</th>\n",
              "      <td>54746</td>\n",
              "      <td>[language, encoding, listed, seemingly, random...</td>\n",
              "    </tr>\n",
              "    <tr>\n",
              "      <th>4</th>\n",
              "      <td>56892</td>\n",
              "      <td>[bugzilla, helper, :, ;, user-agent, :, mozill...</td>\n",
              "    </tr>\n",
              "  </tbody>\n",
              "</table>\n",
              "</div>"
            ],
            "text/plain": [
              "   Issue_id                                        Description\n",
              "0     10954  [dialup, property, profile, exposed, prefs, pa...\n",
              "1     14871  [please, add, match, whole, word, option, brow...\n",
              "2     19118  [would, really, like, plug-in, manager, browse...\n",
              "3     54746  [language, encoding, listed, seemingly, random...\n",
              "4     56892  [bugzilla, helper, :, ;, user-agent, :, mozill..."
            ]
          },
          "metadata": {
            "tags": []
          },
          "execution_count": 18
        }
      ]
    },
    {
      "cell_type": "code",
      "metadata": {
        "id": "Fmsa2GuxMaBC"
      },
      "source": [
        "dados_text.loc[:,\"Description\"] = dados_text.Description.apply(lambda x : str(x))"
      ],
      "execution_count": null,
      "outputs": []
    },
    {
      "cell_type": "code",
      "metadata": {
        "colab": {
          "base_uri": "https://localhost:8080/",
          "height": 204
        },
        "id": "ULH0kkhoMnjE",
        "outputId": "a65f8b90-b64a-4a2a-cf19-9a48b68dca77"
      },
      "source": [
        "textos_preprocessados.head()"
      ],
      "execution_count": null,
      "outputs": [
        {
          "output_type": "execute_result",
          "data": {
            "text/html": [
              "<div>\n",
              "<style scoped>\n",
              "    .dataframe tbody tr th:only-of-type {\n",
              "        vertical-align: middle;\n",
              "    }\n",
              "\n",
              "    .dataframe tbody tr th {\n",
              "        vertical-align: top;\n",
              "    }\n",
              "\n",
              "    .dataframe thead th {\n",
              "        text-align: right;\n",
              "    }\n",
              "</style>\n",
              "<table border=\"1\" class=\"dataframe\">\n",
              "  <thead>\n",
              "    <tr style=\"text-align: right;\">\n",
              "      <th></th>\n",
              "      <th>Issue_id</th>\n",
              "      <th>Description</th>\n",
              "    </tr>\n",
              "  </thead>\n",
              "  <tbody>\n",
              "    <tr>\n",
              "      <th>0</th>\n",
              "      <td>10954</td>\n",
              "      <td>['dialup', 'property', 'profile', 'exposed', '...</td>\n",
              "    </tr>\n",
              "    <tr>\n",
              "      <th>1</th>\n",
              "      <td>14871</td>\n",
              "      <td>['please', 'add', 'match', 'whole', 'word', 'o...</td>\n",
              "    </tr>\n",
              "    <tr>\n",
              "      <th>2</th>\n",
              "      <td>19118</td>\n",
              "      <td>['would', 'really', 'like', 'plug-in', 'manage...</td>\n",
              "    </tr>\n",
              "    <tr>\n",
              "      <th>3</th>\n",
              "      <td>54746</td>\n",
              "      <td>['language', 'encoding', 'listed', 'seemingly'...</td>\n",
              "    </tr>\n",
              "    <tr>\n",
              "      <th>4</th>\n",
              "      <td>56892</td>\n",
              "      <td>['bugzilla', 'helper', ':', ';', 'user-agent',...</td>\n",
              "    </tr>\n",
              "  </tbody>\n",
              "</table>\n",
              "</div>"
            ],
            "text/plain": [
              "   Issue_id                                        Description\n",
              "0     10954  ['dialup', 'property', 'profile', 'exposed', '...\n",
              "1     14871  ['please', 'add', 'match', 'whole', 'word', 'o...\n",
              "2     19118  ['would', 'really', 'like', 'plug-in', 'manage...\n",
              "3     54746  ['language', 'encoding', 'listed', 'seemingly'...\n",
              "4     56892  ['bugzilla', 'helper', ':', ';', 'user-agent',..."
            ]
          },
          "metadata": {
            "tags": []
          },
          "execution_count": 20
        }
      ]
    },
    {
      "cell_type": "markdown",
      "metadata": {
        "id": "lO3uiqYqs40L"
      },
      "source": [
        "## Vetorizar Documentos"
      ]
    },
    {
      "cell_type": "code",
      "metadata": {
        "id": "eTVaDvo1s-c3"
      },
      "source": [
        "from sklearn.feature_extraction.text import CountVectorizer, TfidfVectorizer\n",
        "from nltk.tokenize import RegexpTokenizer"
      ],
      "execution_count": null,
      "outputs": []
    },
    {
      "cell_type": "code",
      "metadata": {
        "id": "RRbRdE3Dtc8M"
      },
      "source": [
        "class VetorizadorTF:\n",
        "    def __init__(self, frequencia_minima=1, frequencia_maxima=1.0, escala_ngramas=(1, 1)):\n",
        "        self.regex = (r'\\(?\\d+\\)?\\s\\d{4,5}\\-\\d{4}|\\d{4,5}\\-\\d{4}|\\w\\S+\\w|\\w+')\n",
        "\n",
        "        self.tokenizador = RegexpTokenizer(self.regex)\n",
        "        self.vetorizador = CountVectorizer(\n",
        "            tokenizer=self.tokenizador.tokenize,\n",
        "            min_df=frequencia_minima,\n",
        "            max_df=frequencia_maxima,\n",
        "            ngram_range=escala_ngramas\n",
        "        )\n",
        "\n",
        "    def vetoriza(self, documentos):\n",
        "        return self.vetorizador.fit_transform(documentos)\n",
        "\n",
        "class VetorizadorTFIDF:\n",
        "    def __init__(self, frequencia_minima=1, frequencia_maxima=1.0, escala_ngramas=(1, 1)):\n",
        "        self.regex = (r'\\(?\\d+\\)?\\s\\d{4,5}\\-\\d{4}|\\d{4,5}\\-\\d{4}|\\w\\S+\\w|\\w+')\n",
        "\n",
        "        self.tokenizador = RegexpTokenizer(self.regex)\n",
        "        self.vetorizador = TfidfVectorizer(\n",
        "            tokenizer=self.tokenizador.tokenize,\n",
        "            min_df=frequencia_minima,\n",
        "            max_df=frequencia_maxima,\n",
        "            ngram_range=escala_ngramas\n",
        "        )\n",
        "\n",
        "    def vetoriza(self, documentos):\n",
        "        return self.vetorizador.fit_transform(documentos)"
      ],
      "execution_count": null,
      "outputs": []
    },
    {
      "cell_type": "code",
      "metadata": {
        "id": "krYnkmSyubfk"
      },
      "source": [
        "vetorizador = VetorizadorTF\n",
        "if parametros_vetorizador['tipo_vetorizador'] == 'tf':\n",
        "    vetorizador = VetorizadorTF(\n",
        "        frequencia_minima=parametros_vetorizador.get('min_df'),\n",
        "        frequencia_maxima=parametros_vetorizador.get('max_df'),\n",
        "        escala_ngramas=parametros_vetorizador.get('ngram_range')\n",
        "    )\n",
        "elif parametros_vetorizador['tipo_vetorizador'] == 'tfidf':\n",
        "    vetorizador = VetorizadorTFIDF(\n",
        "        frequencia_minima=parametros_vetorizador.get('min_df'),\n",
        "        frequencia_maxima=parametros_vetorizador.get('max_df'),\n",
        "        escala_ngramas=parametros_vetorizador.get('ngram_range')\n",
        "    )"
      ],
      "execution_count": null,
      "outputs": []
    },
    {
      "cell_type": "code",
      "metadata": {
        "id": "JfcA5QyIBbku"
      },
      "source": [
        "docs_vetorizados = vetorizador.vetoriza(textos_preprocessados['Description'])"
      ],
      "execution_count": null,
      "outputs": []
    },
    {
      "cell_type": "code",
      "metadata": {
        "colab": {
          "base_uri": "https://localhost:8080/"
        },
        "id": "HR0dQEsxEQNW",
        "outputId": "193fc0c5-9a6c-4b84-908d-202c17272151"
      },
      "source": [
        "print(docs_vetorizados[0])"
      ],
      "execution_count": null,
      "outputs": [
        {
          "output_type": "stream",
          "text": [
            "  (0, 170247)\t1\n",
            "  (0, 308700)\t1\n",
            "  (0, 307928)\t2\n",
            "  (0, 186865)\t1\n",
            "  (0, 302758)\t2\n",
            "  (0, 293725)\t2\n",
            "  (0, 367621)\t1\n",
            "  (0, 178597)\t1\n",
            "  (0, 378357)\t1\n",
            "  (0, 265578)\t1\n",
            "  (0, 121085)\t1\n",
            "  (0, 384527)\t1\n",
            "  (0, 257446)\t1\n",
            "  (0, 296923)\t1\n",
            "  (0, 212177)\t1\n",
            "  (0, 257738)\t1\n",
            "  (0, 179730)\t1\n",
            "  (0, 175214)\t1\n",
            "  (0, 299106)\t1\n",
            "  (0, 180670)\t1\n",
            "  (0, 249632)\t1\n",
            "  (0, 360402)\t1\n",
            "  (0, 124189)\t1\n",
            "  (0, 196465)\t1\n"
          ],
          "name": "stdout"
        }
      ]
    },
    {
      "cell_type": "code",
      "metadata": {
        "colab": {
          "base_uri": "https://localhost:8080/"
        },
        "id": "-ZhOsZCkxot_",
        "outputId": "ba0a249b-dd43-47be-ca0b-2bd1a6959861"
      },
      "source": [
        "type(docs_vetorizados[0])"
      ],
      "execution_count": null,
      "outputs": [
        {
          "output_type": "execute_result",
          "data": {
            "text/plain": [
              "scipy.sparse.csr.csr_matrix"
            ]
          },
          "metadata": {
            "tags": []
          },
          "execution_count": 26
        }
      ]
    },
    {
      "cell_type": "markdown",
      "metadata": {
        "id": "8biJK_V5ui7H"
      },
      "source": [
        "## Executar LDA"
      ]
    },
    {
      "cell_type": "code",
      "metadata": {
        "id": "EWPZK7hxFdvR"
      },
      "source": [
        "from sklearn.decomposition import LatentDirichletAllocation"
      ],
      "execution_count": null,
      "outputs": []
    },
    {
      "cell_type": "code",
      "metadata": {
        "id": "MmnwDiWlumR4"
      },
      "source": [
        "class LDA:\n",
        "    def __init__(self, alfa, beta, numero_topicos=5):\n",
        "        self.modelo = LatentDirichletAllocation(\n",
        "            n_components=numero_topicos,\n",
        "            doc_topic_prior=alfa,\n",
        "            topic_word_prior=beta\n",
        "        )\n",
        "\n",
        "    def realizar_agrupamento(self, documentos_vetorizados):\n",
        "        self.modelo.fit(documentos_vetorizados)\n",
        "        return self.modelo.transform(documentos_vetorizados)"
      ],
      "execution_count": null,
      "outputs": []
    },
    {
      "cell_type": "code",
      "metadata": {
        "id": "_Ft5CSNzvNBY"
      },
      "source": [
        "lda = LDA(\n",
        "    alfa=parametros_modelo.get('alfa'),\n",
        "    beta=parametros_modelo.get('beta'),\n",
        "    numero_topicos=parametros_modelo.get('n_components')\n",
        ")"
      ],
      "execution_count": null,
      "outputs": []
    },
    {
      "cell_type": "code",
      "metadata": {
        "id": "LKSI4FnUFr8q"
      },
      "source": [
        "matriz_doc_topico = lda.realizar_agrupamento(docs_vetorizados)"
      ],
      "execution_count": null,
      "outputs": []
    },
    {
      "cell_type": "code",
      "metadata": {
        "colab": {
          "base_uri": "https://localhost:8080/"
        },
        "id": "qC76Rb6WxouB",
        "outputId": "6d683c21-081f-43c9-b6dd-e5323a5a4025"
      },
      "source": [
        "matriz_doc_topico.shape"
      ],
      "execution_count": null,
      "outputs": [
        {
          "output_type": "execute_result",
          "data": {
            "text/plain": [
              "(114737, 10)"
            ]
          },
          "metadata": {
            "tags": []
          },
          "execution_count": 31
        }
      ]
    },
    {
      "cell_type": "code",
      "metadata": {
        "colab": {
          "base_uri": "https://localhost:8080/"
        },
        "id": "eoUaIM0KxouC",
        "outputId": "aaddb40e-df21-49aa-bcfd-217052ae7bd4"
      },
      "source": [
        "matriz_doc_topico[0]"
      ],
      "execution_count": null,
      "outputs": [
        {
          "output_type": "execute_result",
          "data": {
            "text/plain": [
              "array([0.00181818, 0.00181818, 0.98363636, 0.00181818, 0.00181818,\n",
              "       0.00181818, 0.00181818, 0.00181818, 0.00181818, 0.00181818])"
            ]
          },
          "metadata": {
            "tags": []
          },
          "execution_count": 32
        }
      ]
    },
    {
      "cell_type": "markdown",
      "metadata": {
        "id": "baGSfF4YvNhG"
      },
      "source": [
        "## Calcular Distâncias"
      ]
    },
    {
      "cell_type": "code",
      "metadata": {
        "id": "VVUBKkeuviJg"
      },
      "source": [
        "from sklearn.metrics.pairwise import cosine_distances\n",
        "from sklearn.metrics.pairwise import euclidean_distances\n",
        "from sklearn.metrics.pairwise import manhattan_distances\n",
        "\n",
        "def calcula_distancia_cossenos(vetor1, vetor2):\n",
        "    return cosine_distances(vetor1, vetor2)\n",
        "\n",
        "\n",
        "def calcula_distancia_euclidiana(vetor1, vetor2):\n",
        "    return euclidean_distances(vetor1, vetor2)\n",
        "\n",
        "\n",
        "def calcula_distancia_manhattan(vetor1, vetor2):\n",
        "    return manhattan_distances(vetor1, vetor2)"
      ],
      "execution_count": null,
      "outputs": []
    },
    {
      "cell_type": "markdown",
      "metadata": {
        "id": "8AMF6ohnxouD"
      },
      "source": [
        "### Calcular distância entre dois vetores (exemplo)\n",
        "Os vetores foram escolhidos de forma arbitrária"
      ]
    },
    {
      "cell_type": "code",
      "metadata": {
        "colab": {
          "base_uri": "https://localhost:8080/",
          "height": 103
        },
        "id": "N8nVBePoxouE",
        "outputId": "7bb2e7b5-55da-48ba-8f5f-84b268297640"
      },
      "source": [
        "'''vetor_doc1 = matriz_doc_topico[0]\n",
        "vetor_doc2 = matriz_doc_topico[1]\n",
        "distancia_cosseno = calcula_distancia_cossenos(vetor_doc1, vetor_doc2)\n",
        "distancia_manhattan = calcula_distancia_manhattan(vetor_doc1, vetor_doc2)\n",
        "distancia_euclidiana = calcula_distancia_euclidiana(vetor_doc1, vetor_doc2)\n",
        "\n",
        "print('Dist. via cossenos:', distancia_cosseno)\n",
        "print('Dist. via euclidiana:', distancia_euclidiana)\n",
        "print('Dist. via manhattan:', distancia_manhattan)'''"
      ],
      "execution_count": null,
      "outputs": [
        {
          "output_type": "execute_result",
          "data": {
            "application/vnd.google.colaboratory.intrinsic+json": {
              "type": "string"
            },
            "text/plain": [
              "\"vetor_doc1 = matriz_doc_topico[0]\\nvetor_doc2 = matriz_doc_topico[1]\\ndistancia_cosseno = calcula_distancia_cossenos(vetor_doc1, vetor_doc2)\\ndistancia_manhattan = calcula_distancia_manhattan(vetor_doc1, vetor_doc2)\\ndistancia_euclidiana = calcula_distancia_euclidiana(vetor_doc1, vetor_doc2)\\n\\nprint('Dist. via cossenos:', distancia_cosseno)\\nprint('Dist. via euclidiana:', distancia_euclidiana)\\nprint('Dist. via manhattan:', distancia_manhattan)\""
            ]
          },
          "metadata": {
            "tags": []
          },
          "execution_count": 34
        }
      ]
    },
    {
      "cell_type": "markdown",
      "metadata": {
        "id": "dpvZt9BdxouG"
      },
      "source": [
        "> Lembrar de usar o reshape para formatar os dados antes de usar a função de cálculo de distâncias e o [0][0] para obter a distância em formato númerico"
      ]
    },
    {
      "cell_type": "code",
      "metadata": {
        "colab": {
          "base_uri": "https://localhost:8080/"
        },
        "id": "4F9I3dhbxouG",
        "outputId": "de76477a-a6e9-4f91-b18a-a820c32ea4a0"
      },
      "source": [
        "vetor_doc1 = matriz_doc_topico[0].reshape(1, -1)\n",
        "vetor_doc2 = matriz_doc_topico[1].reshape(1, -1)\n",
        "\n",
        "distancia_cosseno = calcula_distancia_cossenos(vetor_doc1, vetor_doc2)\n",
        "distancia_manhattan = calcula_distancia_manhattan(vetor_doc1, vetor_doc2)\n",
        "distancia_euclidiana = calcula_distancia_euclidiana(vetor_doc1, vetor_doc2)\n",
        "\n",
        "print('Dist. via cossenos:', distancia_cosseno[0][0])\n",
        "print('Dist. via euclidiana:', distancia_euclidiana)\n",
        "print('Dist. via manhattan:', distancia_manhattan)"
      ],
      "execution_count": null,
      "outputs": [
        {
          "output_type": "stream",
          "text": [
            "Dist. via cossenos: 4.398283178219664e-05\n",
            "Dist. via euclidiana: [[0.02792661]]\n",
            "Dist. via manhattan: [[0.05298701]]\n"
          ],
          "name": "stdout"
        }
      ]
    },
    {
      "cell_type": "markdown",
      "metadata": {
        "id": "tRviCDLixouJ"
      },
      "source": [
        "### Calcular distâncias para os pares no conjunto de treino e de testes"
      ]
    },
    {
      "cell_type": "code",
      "metadata": {
        "colab": {
          "base_uri": "https://localhost:8080/"
        },
        "id": "eBN7oxMsRrS0",
        "outputId": "5bc5ccee-4be9-44b3-d9c1-dc32752506ab"
      },
      "source": [
        "print(textos_preprocessados['Issue_id'])"
      ],
      "execution_count": null,
      "outputs": [
        {
          "output_type": "stream",
          "text": [
            "0          10954\n",
            "1          14871\n",
            "2          19118\n",
            "3          54746\n",
            "4          56892\n",
            "           ...  \n",
            "114732    955873\n",
            "114733    955877\n",
            "114734    955890\n",
            "114735    955891\n",
            "114736    955893\n",
            "Name: Issue_id, Length: 114737, dtype: int64\n"
          ],
          "name": "stdout"
        }
      ]
    },
    {
      "cell_type": "code",
      "metadata": {
        "colab": {
          "base_uri": "https://localhost:8080/"
        },
        "id": "Kx4Pl-lYccnB",
        "outputId": "9217efa9-e9fb-43b2-a9de-431410b0c8eb"
      },
      "source": [
        "print(dados_treino.head())"
      ],
      "execution_count": null,
      "outputs": [
        {
          "output_type": "stream",
          "text": [
            "   Issue_id  Duplicated_issue  label\n",
            "0    528102            266593      0\n",
            "1    797731            511601      0\n",
            "2    414287            615052      0\n",
            "3    633680            214836      0\n",
            "4    241116            355772      0\n"
          ],
          "name": "stdout"
        }
      ]
    },
    {
      "cell_type": "code",
      "metadata": {
        "colab": {
          "base_uri": "https://localhost:8080/"
        },
        "id": "HEzTspYSfusI",
        "outputId": "db866dfc-c576-4fd8-e5b2-d1125112178d"
      },
      "source": [
        "print(dados_treino['Issue_id'] == 852451)"
      ],
      "execution_count": null,
      "outputs": [
        {
          "output_type": "stream",
          "text": [
            "0        False\n",
            "1        False\n",
            "2        False\n",
            "3        False\n",
            "4        False\n",
            "         ...  \n",
            "75754    False\n",
            "75755    False\n",
            "75756    False\n",
            "75757    False\n",
            "75758    False\n",
            "Name: Issue_id, Length: 75759, dtype: bool\n"
          ],
          "name": "stdout"
        }
      ]
    },
    {
      "cell_type": "code",
      "metadata": {
        "colab": {
          "base_uri": "https://localhost:8080/"
        },
        "id": "cieKsPCNgBgU",
        "outputId": "3367e17b-6f4b-4e3a-9a8b-6c0bcdb863ee"
      },
      "source": [
        "index = textos_preprocessados.index\n",
        "a = index[textos_preprocessados['Issue_id'] == 916768]\n",
        "print(a)\n",
        "print(len(a))"
      ],
      "execution_count": null,
      "outputs": [
        {
          "output_type": "stream",
          "text": [
            "Int64Index([112671], dtype='int64')\n",
            "1\n"
          ],
          "name": "stdout"
        }
      ]
    },
    {
      "cell_type": "code",
      "metadata": {
        "colab": {
          "base_uri": "https://localhost:8080/"
        },
        "id": "SZp3TS5EhcKK",
        "outputId": "9b8dce27-fa54-4a8a-ca9e-bb243cd0affb"
      },
      "source": [
        "print(dados_treino[:1])"
      ],
      "execution_count": null,
      "outputs": [
        {
          "output_type": "stream",
          "text": [
            "   Issue_id  Duplicated_issue  label\n",
            "0    528102            266593      0\n"
          ],
          "name": "stdout"
        }
      ]
    },
    {
      "cell_type": "code",
      "metadata": {
        "id": "i4Zhll5QaE76"
      },
      "source": [
        " #print(textos_preprocessados.loc[textos_preprocessados['Issue_id'] == dados_treino['Issue_id']])\n"
      ],
      "execution_count": null,
      "outputs": []
    },
    {
      "cell_type": "code",
      "metadata": {
        "id": "1-W1ezOyxouL"
      },
      "source": [
        "def calcular_distancia_entre_par_de_casosX(row):\n",
        "    # A partir do ID, descobrir o INDEX\n",
        "    index_doc_query = textos_preprocessados.loc[textos_preprocessados['Issue_id'] == row['Issue_id']].index\n",
        "    index_doc_resp = textos_preprocessados.loc[textos_preprocessados['Issue_id'] == row['Duplicated_issue']].index\n",
        "    \n",
        "    vetor_LDA_doc_query = matriz_doc_topico[index_doc_query].reshape(1, -1)\n",
        "    vetor_LDA_doc_resp = matriz_doc_topico[index_doc_resp].reshape(1, -1)\n",
        "\n",
        "    distancia = calcula_distancia_cossenos(\n",
        "        vetor_LDA_doc_query,\n",
        "        vetor_LDA_doc_resp\n",
        "    )\n",
        "\n",
        "    return 1 - distancia[0][0]"
      ],
      "execution_count": null,
      "outputs": []
    },
    {
      "cell_type": "code",
      "metadata": {
        "id": "F5Fyz2LHeQtG"
      },
      "source": [
        "def calcular_distancia_entre_par_de_casos(row):\n",
        "  \n",
        "    \n",
        "    issue_id = row['Issue_id'] #Tenho que pegar o issue_id  do treino\n",
        "    duplicated_issue = row['Duplicated_issue'] #Tenho que pegar o duplicated_issue do treino\n",
        "  \n",
        "    index = textos_preprocessados.index #Todos os índices\n",
        "    \n",
        "    index_id = index[textos_preprocessados['Issue_id'] == issue_id] #Tenho que achar o índice do issue_id no documento de texto\n",
        "    index_duplicated = index[textos_preprocessados['Issue_id'] == duplicated_issue] #Tenho que achar o índice do duplicated no documento de texto\n",
        "\n",
        "    #print(\"issue_id = {} \\n duplicated_issue = {} \\n index_id = {} \\n index_duplicated = {} \\n\".format(issue_id, duplicated_issue, index_id, index_duplicated))\n",
        "    if (len(index_id) == 0 or len(index_duplicated) == 0):\n",
        "      return 0\n",
        "    vetor_LDA_doc_query = matriz_doc_topico[index_id].reshape(1, -1)\n",
        "    vetor_LDA_doc_resp = matriz_doc_topico[index_duplicated].reshape(1, -1)\n",
        "    distancia = calcula_distancia_cossenos(\n",
        "        vetor_LDA_doc_query,\n",
        "        vetor_LDA_doc_resp\n",
        "    )\n",
        "    #print(distancia[0][0])\n",
        "    return 1 - distancia[0][0]\n"
      ],
      "execution_count": null,
      "outputs": []
    },
    {
      "cell_type": "markdown",
      "metadata": {
        "id": "_5EvFXimxouM"
      },
      "source": [
        "#### Adicionar distâncias entre os pares de casos no conjunto de treino"
      ]
    },
    {
      "cell_type": "code",
      "metadata": {
        "colab": {
          "background_save": true,
          "base_uri": "https://localhost:8080/"
        },
        "id": "6xwyx_RoxouM",
        "outputId": "7c882097-83da-42f0-c334-8d0cde37a3e5"
      },
      "source": [
        "distancias_treino = dados_treino.apply(\n",
        "    lambda linha: calcular_distancia_entre_par_de_casos(linha),\n",
        "    axis=1\n",
        ")\n",
        "len(distancias_treino) == len(dados_treino)"
      ],
      "execution_count": null,
      "outputs": [
        {
          "output_type": "execute_result",
          "data": {
            "text/plain": [
              "True"
            ]
          },
          "metadata": {
            "tags": []
          },
          "execution_count": 0
        }
      ]
    },
    {
      "cell_type": "code",
      "metadata": {
        "colab": {
          "background_save": true,
          "base_uri": "https://localhost:8080/",
          "height": 979
        },
        "id": "KEsQCjIIxouN",
        "outputId": "09f48133-a188-49d9-be76-44d00b2decfa"
      },
      "source": [
        "dados_treino['distancia'] = distancias_treino\n",
        "dados_treino[:30]"
      ],
      "execution_count": null,
      "outputs": [
        {
          "output_type": "execute_result",
          "data": {
            "text/html": [
              "<div>\n",
              "<style scoped>\n",
              "    .dataframe tbody tr th:only-of-type {\n",
              "        vertical-align: middle;\n",
              "    }\n",
              "\n",
              "    .dataframe tbody tr th {\n",
              "        vertical-align: top;\n",
              "    }\n",
              "\n",
              "    .dataframe thead th {\n",
              "        text-align: right;\n",
              "    }\n",
              "</style>\n",
              "<table border=\"1\" class=\"dataframe\">\n",
              "  <thead>\n",
              "    <tr style=\"text-align: right;\">\n",
              "      <th></th>\n",
              "      <th>Issue_id</th>\n",
              "      <th>Duplicated_issue</th>\n",
              "      <th>label</th>\n",
              "      <th>distancia</th>\n",
              "    </tr>\n",
              "  </thead>\n",
              "  <tbody>\n",
              "    <tr>\n",
              "      <th>0</th>\n",
              "      <td>528102</td>\n",
              "      <td>266593</td>\n",
              "      <td>0</td>\n",
              "      <td>0.933526</td>\n",
              "    </tr>\n",
              "    <tr>\n",
              "      <th>1</th>\n",
              "      <td>797731</td>\n",
              "      <td>511601</td>\n",
              "      <td>0</td>\n",
              "      <td>0.465730</td>\n",
              "    </tr>\n",
              "    <tr>\n",
              "      <th>2</th>\n",
              "      <td>414287</td>\n",
              "      <td>615052</td>\n",
              "      <td>0</td>\n",
              "      <td>0.051284</td>\n",
              "    </tr>\n",
              "    <tr>\n",
              "      <th>3</th>\n",
              "      <td>633680</td>\n",
              "      <td>214836</td>\n",
              "      <td>0</td>\n",
              "      <td>0.024764</td>\n",
              "    </tr>\n",
              "    <tr>\n",
              "      <th>4</th>\n",
              "      <td>241116</td>\n",
              "      <td>355772</td>\n",
              "      <td>0</td>\n",
              "      <td>0.019642</td>\n",
              "    </tr>\n",
              "    <tr>\n",
              "      <th>5</th>\n",
              "      <td>481545</td>\n",
              "      <td>395161</td>\n",
              "      <td>1</td>\n",
              "      <td>0.596610</td>\n",
              "    </tr>\n",
              "    <tr>\n",
              "      <th>6</th>\n",
              "      <td>513168</td>\n",
              "      <td>451687</td>\n",
              "      <td>0</td>\n",
              "      <td>0.482987</td>\n",
              "    </tr>\n",
              "    <tr>\n",
              "      <th>7</th>\n",
              "      <td>342458</td>\n",
              "      <td>354259</td>\n",
              "      <td>0</td>\n",
              "      <td>0.004090</td>\n",
              "    </tr>\n",
              "    <tr>\n",
              "      <th>8</th>\n",
              "      <td>705100</td>\n",
              "      <td>703514</td>\n",
              "      <td>0</td>\n",
              "      <td>0.295205</td>\n",
              "    </tr>\n",
              "    <tr>\n",
              "      <th>9</th>\n",
              "      <td>184653</td>\n",
              "      <td>653318</td>\n",
              "      <td>0</td>\n",
              "      <td>0.629902</td>\n",
              "    </tr>\n",
              "    <tr>\n",
              "      <th>10</th>\n",
              "      <td>410549</td>\n",
              "      <td>785730</td>\n",
              "      <td>0</td>\n",
              "      <td>0.107468</td>\n",
              "    </tr>\n",
              "    <tr>\n",
              "      <th>11</th>\n",
              "      <td>647223</td>\n",
              "      <td>349476</td>\n",
              "      <td>0</td>\n",
              "      <td>0.005357</td>\n",
              "    </tr>\n",
              "    <tr>\n",
              "      <th>12</th>\n",
              "      <td>468435</td>\n",
              "      <td>726014</td>\n",
              "      <td>0</td>\n",
              "      <td>0.002910</td>\n",
              "    </tr>\n",
              "    <tr>\n",
              "      <th>13</th>\n",
              "      <td>409691</td>\n",
              "      <td>243255</td>\n",
              "      <td>0</td>\n",
              "      <td>0.152538</td>\n",
              "    </tr>\n",
              "    <tr>\n",
              "      <th>14</th>\n",
              "      <td>290386</td>\n",
              "      <td>290385</td>\n",
              "      <td>1</td>\n",
              "      <td>1.000000</td>\n",
              "    </tr>\n",
              "    <tr>\n",
              "      <th>15</th>\n",
              "      <td>909101</td>\n",
              "      <td>392869</td>\n",
              "      <td>0</td>\n",
              "      <td>0.018966</td>\n",
              "    </tr>\n",
              "    <tr>\n",
              "      <th>16</th>\n",
              "      <td>266768</td>\n",
              "      <td>245392</td>\n",
              "      <td>1</td>\n",
              "      <td>0.938478</td>\n",
              "    </tr>\n",
              "    <tr>\n",
              "      <th>17</th>\n",
              "      <td>356202</td>\n",
              "      <td>555119</td>\n",
              "      <td>0</td>\n",
              "      <td>0.002738</td>\n",
              "    </tr>\n",
              "    <tr>\n",
              "      <th>18</th>\n",
              "      <td>686625</td>\n",
              "      <td>764174</td>\n",
              "      <td>0</td>\n",
              "      <td>0.861697</td>\n",
              "    </tr>\n",
              "    <tr>\n",
              "      <th>19</th>\n",
              "      <td>725627</td>\n",
              "      <td>549988</td>\n",
              "      <td>0</td>\n",
              "      <td>0.915737</td>\n",
              "    </tr>\n",
              "    <tr>\n",
              "      <th>20</th>\n",
              "      <td>320479</td>\n",
              "      <td>318651</td>\n",
              "      <td>1</td>\n",
              "      <td>0.822558</td>\n",
              "    </tr>\n",
              "    <tr>\n",
              "      <th>21</th>\n",
              "      <td>492598</td>\n",
              "      <td>853789</td>\n",
              "      <td>0</td>\n",
              "      <td>0.564884</td>\n",
              "    </tr>\n",
              "    <tr>\n",
              "      <th>22</th>\n",
              "      <td>859496</td>\n",
              "      <td>859500</td>\n",
              "      <td>1</td>\n",
              "      <td>1.000000</td>\n",
              "    </tr>\n",
              "    <tr>\n",
              "      <th>23</th>\n",
              "      <td>216093</td>\n",
              "      <td>378248</td>\n",
              "      <td>0</td>\n",
              "      <td>0.751557</td>\n",
              "    </tr>\n",
              "    <tr>\n",
              "      <th>24</th>\n",
              "      <td>318246</td>\n",
              "      <td>526557</td>\n",
              "      <td>0</td>\n",
              "      <td>0.312802</td>\n",
              "    </tr>\n",
              "    <tr>\n",
              "      <th>25</th>\n",
              "      <td>528704</td>\n",
              "      <td>565995</td>\n",
              "      <td>0</td>\n",
              "      <td>0.165886</td>\n",
              "    </tr>\n",
              "    <tr>\n",
              "      <th>26</th>\n",
              "      <td>800290</td>\n",
              "      <td>800265</td>\n",
              "      <td>1</td>\n",
              "      <td>0.994020</td>\n",
              "    </tr>\n",
              "    <tr>\n",
              "      <th>27</th>\n",
              "      <td>787213</td>\n",
              "      <td>494670</td>\n",
              "      <td>0</td>\n",
              "      <td>0.341978</td>\n",
              "    </tr>\n",
              "    <tr>\n",
              "      <th>28</th>\n",
              "      <td>300158</td>\n",
              "      <td>531495</td>\n",
              "      <td>0</td>\n",
              "      <td>0.208463</td>\n",
              "    </tr>\n",
              "    <tr>\n",
              "      <th>29</th>\n",
              "      <td>448144</td>\n",
              "      <td>587546</td>\n",
              "      <td>0</td>\n",
              "      <td>0.003619</td>\n",
              "    </tr>\n",
              "  </tbody>\n",
              "</table>\n",
              "</div>"
            ],
            "text/plain": [
              "    Issue_id  Duplicated_issue  label  distancia\n",
              "0     528102            266593      0   0.933526\n",
              "1     797731            511601      0   0.465730\n",
              "2     414287            615052      0   0.051284\n",
              "3     633680            214836      0   0.024764\n",
              "4     241116            355772      0   0.019642\n",
              "5     481545            395161      1   0.596610\n",
              "6     513168            451687      0   0.482987\n",
              "7     342458            354259      0   0.004090\n",
              "8     705100            703514      0   0.295205\n",
              "9     184653            653318      0   0.629902\n",
              "10    410549            785730      0   0.107468\n",
              "11    647223            349476      0   0.005357\n",
              "12    468435            726014      0   0.002910\n",
              "13    409691            243255      0   0.152538\n",
              "14    290386            290385      1   1.000000\n",
              "15    909101            392869      0   0.018966\n",
              "16    266768            245392      1   0.938478\n",
              "17    356202            555119      0   0.002738\n",
              "18    686625            764174      0   0.861697\n",
              "19    725627            549988      0   0.915737\n",
              "20    320479            318651      1   0.822558\n",
              "21    492598            853789      0   0.564884\n",
              "22    859496            859500      1   1.000000\n",
              "23    216093            378248      0   0.751557\n",
              "24    318246            526557      0   0.312802\n",
              "25    528704            565995      0   0.165886\n",
              "26    800290            800265      1   0.994020\n",
              "27    787213            494670      0   0.341978\n",
              "28    300158            531495      0   0.208463\n",
              "29    448144            587546      0   0.003619"
            ]
          },
          "metadata": {
            "tags": []
          },
          "execution_count": 0
        }
      ]
    },
    {
      "cell_type": "code",
      "metadata": {
        "colab": {
          "background_save": true,
          "base_uri": "https://localhost:8080/"
        },
        "id": "E2biZLaNxouN",
        "outputId": "14cf011e-5fa1-4be9-9e33-0a9545eb2875"
      },
      "source": [
        "len(dados_treino)"
      ],
      "execution_count": null,
      "outputs": [
        {
          "output_type": "execute_result",
          "data": {
            "text/plain": [
              "75759"
            ]
          },
          "metadata": {
            "tags": []
          },
          "execution_count": 0
        }
      ]
    },
    {
      "cell_type": "markdown",
      "metadata": {
        "id": "0l8ItyE7xouO"
      },
      "source": [
        "#### Adicionar distâncias entre os pares de casos no conjunto de teste"
      ]
    },
    {
      "cell_type": "code",
      "metadata": {
        "colab": {
          "background_save": true
        },
        "id": "ilKp2SJZxouO",
        "outputId": "2dc938c2-6457-4f67-c198-62bcaaaf56d1"
      },
      "source": [
        "distancias_teste = dados_teste.apply(\n",
        "    lambda linha: calcular_distancia_entre_par_de_casos(linha),\n",
        "    axis=1\n",
        ")\n",
        "len(distancias_teste) == len(dados_teste)"
      ],
      "execution_count": null,
      "outputs": [
        {
          "output_type": "execute_result",
          "data": {
            "text/plain": [
              "True"
            ]
          },
          "metadata": {
            "tags": []
          },
          "execution_count": 0
        }
      ]
    },
    {
      "cell_type": "code",
      "metadata": {
        "colab": {
          "background_save": true
        },
        "id": "AI1vrezsxouV",
        "outputId": "30666db6-cc0e-40ef-f539-dbe6effd2157"
      },
      "source": [
        "dados_teste['distancia'] = distancias_teste\n",
        "dados_teste[:20]"
      ],
      "execution_count": null,
      "outputs": [
        {
          "output_type": "execute_result",
          "data": {
            "text/html": [
              "<div>\n",
              "<style scoped>\n",
              "    .dataframe tbody tr th:only-of-type {\n",
              "        vertical-align: middle;\n",
              "    }\n",
              "\n",
              "    .dataframe tbody tr th {\n",
              "        vertical-align: top;\n",
              "    }\n",
              "\n",
              "    .dataframe thead th {\n",
              "        text-align: right;\n",
              "    }\n",
              "</style>\n",
              "<table border=\"1\" class=\"dataframe\">\n",
              "  <thead>\n",
              "    <tr style=\"text-align: right;\">\n",
              "      <th></th>\n",
              "      <th>Issue_id</th>\n",
              "      <th>Duplicated_issue</th>\n",
              "      <th>label</th>\n",
              "      <th>distancia</th>\n",
              "    </tr>\n",
              "  </thead>\n",
              "  <tbody>\n",
              "    <tr>\n",
              "      <th>75759</th>\n",
              "      <td>949686</td>\n",
              "      <td>514377</td>\n",
              "      <td>0</td>\n",
              "      <td>0.357978</td>\n",
              "    </tr>\n",
              "    <tr>\n",
              "      <th>75760</th>\n",
              "      <td>440369</td>\n",
              "      <td>489570</td>\n",
              "      <td>0</td>\n",
              "      <td>0.869162</td>\n",
              "    </tr>\n",
              "    <tr>\n",
              "      <th>75761</th>\n",
              "      <td>303686</td>\n",
              "      <td>249150</td>\n",
              "      <td>1</td>\n",
              "      <td>0.885266</td>\n",
              "    </tr>\n",
              "    <tr>\n",
              "      <th>75762</th>\n",
              "      <td>945008</td>\n",
              "      <td>538704</td>\n",
              "      <td>0</td>\n",
              "      <td>0.004441</td>\n",
              "    </tr>\n",
              "    <tr>\n",
              "      <th>75763</th>\n",
              "      <td>597409</td>\n",
              "      <td>521939</td>\n",
              "      <td>0</td>\n",
              "      <td>0.392087</td>\n",
              "    </tr>\n",
              "    <tr>\n",
              "      <th>75764</th>\n",
              "      <td>324509</td>\n",
              "      <td>694000</td>\n",
              "      <td>0</td>\n",
              "      <td>0.014435</td>\n",
              "    </tr>\n",
              "    <tr>\n",
              "      <th>75765</th>\n",
              "      <td>727917</td>\n",
              "      <td>355538</td>\n",
              "      <td>0</td>\n",
              "      <td>0.483529</td>\n",
              "    </tr>\n",
              "    <tr>\n",
              "      <th>75766</th>\n",
              "      <td>440360</td>\n",
              "      <td>403699</td>\n",
              "      <td>0</td>\n",
              "      <td>0.774128</td>\n",
              "    </tr>\n",
              "    <tr>\n",
              "      <th>75767</th>\n",
              "      <td>477618</td>\n",
              "      <td>452270</td>\n",
              "      <td>0</td>\n",
              "      <td>0.396977</td>\n",
              "    </tr>\n",
              "    <tr>\n",
              "      <th>75768</th>\n",
              "      <td>861886</td>\n",
              "      <td>532765</td>\n",
              "      <td>0</td>\n",
              "      <td>0.009309</td>\n",
              "    </tr>\n",
              "    <tr>\n",
              "      <th>75769</th>\n",
              "      <td>353341</td>\n",
              "      <td>717496</td>\n",
              "      <td>0</td>\n",
              "      <td>0.003724</td>\n",
              "    </tr>\n",
              "    <tr>\n",
              "      <th>75770</th>\n",
              "      <td>400134</td>\n",
              "      <td>565042</td>\n",
              "      <td>0</td>\n",
              "      <td>0.004504</td>\n",
              "    </tr>\n",
              "    <tr>\n",
              "      <th>75771</th>\n",
              "      <td>482937</td>\n",
              "      <td>220049</td>\n",
              "      <td>1</td>\n",
              "      <td>0.657359</td>\n",
              "    </tr>\n",
              "    <tr>\n",
              "      <th>75772</th>\n",
              "      <td>218865</td>\n",
              "      <td>172530</td>\n",
              "      <td>1</td>\n",
              "      <td>0.435531</td>\n",
              "    </tr>\n",
              "    <tr>\n",
              "      <th>75773</th>\n",
              "      <td>709006</td>\n",
              "      <td>234082</td>\n",
              "      <td>0</td>\n",
              "      <td>0.005859</td>\n",
              "    </tr>\n",
              "    <tr>\n",
              "      <th>75774</th>\n",
              "      <td>493704</td>\n",
              "      <td>309838</td>\n",
              "      <td>0</td>\n",
              "      <td>0.960822</td>\n",
              "    </tr>\n",
              "    <tr>\n",
              "      <th>75775</th>\n",
              "      <td>460212</td>\n",
              "      <td>263804</td>\n",
              "      <td>0</td>\n",
              "      <td>0.947705</td>\n",
              "    </tr>\n",
              "    <tr>\n",
              "      <th>75776</th>\n",
              "      <td>626939</td>\n",
              "      <td>203789</td>\n",
              "      <td>0</td>\n",
              "      <td>0.168087</td>\n",
              "    </tr>\n",
              "    <tr>\n",
              "      <th>75777</th>\n",
              "      <td>668187</td>\n",
              "      <td>427181</td>\n",
              "      <td>0</td>\n",
              "      <td>0.109095</td>\n",
              "    </tr>\n",
              "    <tr>\n",
              "      <th>75778</th>\n",
              "      <td>683509</td>\n",
              "      <td>599779</td>\n",
              "      <td>0</td>\n",
              "      <td>0.010078</td>\n",
              "    </tr>\n",
              "  </tbody>\n",
              "</table>\n",
              "</div>"
            ],
            "text/plain": [
              "       Issue_id  Duplicated_issue  label  distancia\n",
              "75759    949686            514377      0   0.357978\n",
              "75760    440369            489570      0   0.869162\n",
              "75761    303686            249150      1   0.885266\n",
              "75762    945008            538704      0   0.004441\n",
              "75763    597409            521939      0   0.392087\n",
              "75764    324509            694000      0   0.014435\n",
              "75765    727917            355538      0   0.483529\n",
              "75766    440360            403699      0   0.774128\n",
              "75767    477618            452270      0   0.396977\n",
              "75768    861886            532765      0   0.009309\n",
              "75769    353341            717496      0   0.003724\n",
              "75770    400134            565042      0   0.004504\n",
              "75771    482937            220049      1   0.657359\n",
              "75772    218865            172530      1   0.435531\n",
              "75773    709006            234082      0   0.005859\n",
              "75774    493704            309838      0   0.960822\n",
              "75775    460212            263804      0   0.947705\n",
              "75776    626939            203789      0   0.168087\n",
              "75777    668187            427181      0   0.109095\n",
              "75778    683509            599779      0   0.010078"
            ]
          },
          "metadata": {
            "tags": []
          },
          "execution_count": 0
        }
      ]
    },
    {
      "cell_type": "markdown",
      "metadata": {
        "id": "yZxUG9wexouW"
      },
      "source": [
        "## Passar dados para a Regressão Logística\n",
        "A regressão logística recebe o nível de semelhança e as distâncias calculadas. O objetivo deste modelo é encontrar um valor (ou um intervalo) de semelhança que separe uma classe de similaridade de outra"
      ]
    },
    {
      "cell_type": "markdown",
      "metadata": {
        "id": "FoMZxXmVxouW"
      },
      "source": [
        "### Formatação dos dados\n",
        "Tem que colocar `.values.ravel()` para formatar o `y_treino` e `y_teste`"
      ]
    },
    {
      "cell_type": "code",
      "metadata": {
        "colab": {
          "background_save": true
        },
        "id": "CJ0tW8bpxouW"
      },
      "source": [
        "x_treino = dados_treino.loc[:, dados_treino.columns == 'distancia']\n",
        "y_treino = dados_treino.loc[:, dados_treino.columns == 'label'].values.ravel()"
      ],
      "execution_count": null,
      "outputs": []
    },
    {
      "cell_type": "code",
      "metadata": {
        "colab": {
          "background_save": true
        },
        "id": "1BDej1XOxouX",
        "outputId": "fd93f4e0-8586-40cc-d34d-d2b6239e1bbd"
      },
      "source": [
        "len(x_treino)"
      ],
      "execution_count": null,
      "outputs": [
        {
          "output_type": "execute_result",
          "data": {
            "text/plain": [
              "75759"
            ]
          },
          "metadata": {
            "tags": []
          },
          "execution_count": 0
        }
      ]
    },
    {
      "cell_type": "code",
      "metadata": {
        "colab": {
          "background_save": true
        },
        "id": "04Nu1IK2xouX"
      },
      "source": [
        "x_teste = dados_teste.loc[:, dados_teste.columns == 'distancia']\n",
        "y_teste = dados_teste.loc[:, dados_teste.columns == 'label'].values.ravel()"
      ],
      "execution_count": null,
      "outputs": []
    },
    {
      "cell_type": "markdown",
      "metadata": {
        "id": "_uPsect5xouX"
      },
      "source": [
        "### Balanceamento dos dados\n",
        "Serve para gerar, de forma sintética, mais exemplos para que a regressão logística consiga aprender melhor os limites das classes de similaridade.\n",
        "\n",
        "Pular essa etapa se o balanceamento for igual a `nenhum`"
      ]
    },
    {
      "cell_type": "code",
      "metadata": {
        "colab": {
          "background_save": true
        },
        "id": "lSDjQ0XQxouc",
        "outputId": "ee65674b-451d-460b-b6f7-ca5cddc8d879"
      },
      "source": [
        "from imblearn.over_sampling import ADASYN, RandomOverSampler, SMOTE\n",
        "\n",
        "def balancear_dados(preditores_treino, predicao_treino, metodo, n_vizinhos=8):\n",
        "    if metodo == 'adasyn':\n",
        "        balanceador = ADASYN(n_neighbors=n_vizinhos)\n",
        "    if metodo == 'smote':\n",
        "        balanceador = SMOTE(k_neighbors=n_vizinhos)\n",
        "    else:\n",
        "        balanceador = RandomOverSampler()\n",
        "      \n",
        "    return balanceador.fit_resample(\n",
        "        preditores_treino.values.reshape(-1, 1),\n",
        "        predicao_treino\n",
        "    )"
      ],
      "execution_count": null,
      "outputs": [
        {
          "output_type": "stream",
          "text": [
            "/usr/local/lib/python3.7/dist-packages/sklearn/externals/six.py:31: FutureWarning: The module is deprecated in version 0.21 and will be removed in version 0.23 since we've dropped support for Python 2.7. Please rely on the official version of six (https://pypi.org/project/six/).\n",
            "  \"(https://pypi.org/project/six/).\", FutureWarning)\n",
            "/usr/local/lib/python3.7/dist-packages/sklearn/utils/deprecation.py:144: FutureWarning: The sklearn.neighbors.base module is  deprecated in version 0.22 and will be removed in version 0.24. The corresponding classes / functions should instead be imported from sklearn.neighbors. Anything that cannot be imported from sklearn.neighbors is now part of the private API.\n",
            "  warnings.warn(message, FutureWarning)\n"
          ],
          "name": "stderr"
        }
      ]
    },
    {
      "cell_type": "code",
      "metadata": {
        "colab": {
          "background_save": true
        },
        "id": "9I35DDWWxouc",
        "outputId": "30325dd1-511d-452d-b054-3cb8391b93dd"
      },
      "source": [
        "metodo_balanceamento = parametros_regr_log.get('metodo_balanceamento')\n",
        "if metodo_balanceamento != \"nenhum\":\n",
        "    x_treino, y_treino = balancear_dados(\n",
        "        x_treino,\n",
        "        y_treino,\n",
        "        metodo_balanceamento\n",
        "    )"
      ],
      "execution_count": null,
      "outputs": [
        {
          "output_type": "stream",
          "text": [
            "/usr/local/lib/python3.7/dist-packages/sklearn/utils/deprecation.py:87: FutureWarning: Function safe_indexing is deprecated; safe_indexing is deprecated in version 0.22 and will be removed in version 0.24.\n",
            "  warnings.warn(msg, category=FutureWarning)\n"
          ],
          "name": "stderr"
        }
      ]
    },
    {
      "cell_type": "code",
      "metadata": {
        "colab": {
          "background_save": true
        },
        "id": "SA-bm6xHxoud",
        "outputId": "0da0b9ae-888c-4b09-d7c7-516176ce9a41"
      },
      "source": [
        "len(x_treino)"
      ],
      "execution_count": null,
      "outputs": [
        {
          "output_type": "execute_result",
          "data": {
            "text/plain": [
              "126366"
            ]
          },
          "metadata": {
            "tags": []
          },
          "execution_count": 0
        }
      ]
    },
    {
      "cell_type": "markdown",
      "metadata": {
        "id": "qgNnSRkhxoud"
      },
      "source": [
        "### Executar Regressão Logística"
      ]
    },
    {
      "cell_type": "code",
      "metadata": {
        "colab": {
          "background_save": true
        },
        "id": "TSL6I3AWxoue"
      },
      "source": [
        "from sklearn.model_selection import ParameterGrid\n",
        "from sklearn.model_selection import StratifiedKFold\n",
        "\n",
        "\n",
        "from sklearn.neighbors import KNeighborsClassifier\n",
        "from sklearn.linear_model import LogisticRegression\n",
        "\n",
        "from sklearn.model_selection import cross_val_score\n",
        "\n",
        "\n",
        "def validacao_cruzada(nome_do_modelo, dic_parametros, preditores, predicoes):\n",
        "    \"\"\"Valida modelos usando conjuntos de parâmetros de teste, dados par\n",
        "    a aprendizado e as respostas corretas.\n",
        "\n",
        "    Utiliza combinações de valores passados como parâmetro no dicionário\n",
        "    para criar modelos e aplica-los em uma função de validação cruzada,\n",
        "     utilizando valores das distâncias de cada documento e as predicoes\n",
        "    corretas.\n",
        "\n",
        "    Parâmetros:\n",
        "      nome_do_modelo (str): modelo de processamento\n",
        "        \"knn\": Utiliza o módulo KNeighborsClassifier do SKLearn\n",
        "        \"regressao\": Utiliza o módulo LogisticRegression do SKLearn\n",
        "      dic_parametros (dict): dicionário de conjuntos de parametros espec\n",
        "      ifico de cada modelo.\n",
        "        exemplo:\n",
        "          parametrosKnn = {\n",
        "            'n_neighbors': [5, 6, 7, 8, 9, 10],\n",
        "            'weights': ['uniform', 'distance'],\n",
        "            'algorithm': ['brute', 'ball_tree', 'kd_tree']\n",
        "          }\n",
        "      preditores (list): lista de valores das distancias\n",
        "      predicoes (list): lista de valores de resultados corretos\n",
        "    \"\"\"\n",
        "    lista_combinacoes_parametros = combina_parametros(dic_parametros)\n",
        "\n",
        "    kfold = StratifiedKFold(n_splits=10, shuffle=True)\n",
        "\n",
        "    resultados = []\n",
        "    for parametros in lista_combinacoes_parametros:\n",
        "\n",
        "        instancia = instancia_modelo(nome_do_modelo, parametros)\n",
        "        #aplica o metodo de validacao cruzada\n",
        "        pontuacao = cross_val_score(instancia, preditores, predicoes,\n",
        "                                    scoring='f1_macro', cv=kfold).mean()\n",
        "\n",
        "        resultados.append(pontuacao)\n",
        "\n",
        "    pos_melhor_resultado = resultados.index(max(resultados))\n",
        "\n",
        "    resultado = resultados[pos_melhor_resultado]\n",
        "    melhores_parametros = lista_combinacoes_parametros[pos_melhor_resultado]\n",
        "\n",
        "    return resultado, melhores_parametros\n",
        "\n",
        "\n",
        "def combina_parametros(dic_parametros):\n",
        "    \"\"\"Cria e retorna uma lista a partir de conjuntos de valores passado\n",
        "    s em um dicionário.\n",
        "\n",
        "    Parâmetros:\n",
        "      dic_parametros (dict): dicionário com conjuntos de valores passado\n",
        "    s como parametros.\n",
        "    \"\"\"\n",
        "    combinacoes = list(ParameterGrid(dic_parametros))\n",
        "\n",
        "    return combinacoes\n",
        "\n",
        "\n",
        "def instancia_modelo(modelo, parametros):\n",
        "    \"\"\"Instancia e retorna um objeto a partir do nome do modelo a ser us\n",
        "    ado e de um dicionário com seus parâmetros.\n",
        "\n",
        "    Parâmetros:\n",
        "      modelo (str): modelo de processamento\n",
        "      parametros (dict): parâmetros que vão ser usados para instanciar o\n",
        "    objeto a ser retornado\n",
        "    \"\"\"\n",
        "    instancia = None\n",
        "    if modelo == 'knn':\n",
        "        instancia = instancia_classificador_knn(parametros['n_neighbors'],\n",
        "                                                parametros['weights'],\n",
        "                                                parametros['algorithm'])\n",
        "    elif modelo == 'regressao':\n",
        "        instancia = instancia_regressor_logistico(parametros['alfa'],\n",
        "                                                  parametros['max_iter'])\n",
        "    else:\n",
        "        raise Exception('Modelo não existe para teste.')\n",
        "\n",
        "    return instancia\n",
        "\n",
        "\n",
        "def instancia_classificador_knn(k=5, pesos='uniform', algoritmo='brute',\n",
        "                                metrica='minkowski'):\n",
        "    \"\"\"Instancia e retorna um objeto KNeighborsClassifier utilizando seu\n",
        "    s parâmetros.\n",
        "    \"\"\"\n",
        "    instancia = KNeighborsClassifier(\n",
        "        n_neighbors=k,\n",
        "        weights=pesos,\n",
        "        algorithm=algoritmo,\n",
        "        metric=metrica\n",
        "    )\n",
        "\n",
        "    return instancia\n",
        "\n",
        "\n",
        "def instancia_regressor_logistico(alfa, iteracoes_maximas, resolvedor='lbfgs',\n",
        "                                  multi_class='multinomial'):\n",
        "    \"\"\"Instancia e retorna um objeto LogisticRegression utilizando seu\n",
        "    s parâmetros.\n",
        "    \"\"\"\n",
        "    instancia = LogisticRegression(\n",
        "        C=alfa,\n",
        "        solver=resolvedor,\n",
        "        multi_class=multi_class,\n",
        "        max_iter=iteracoes_maximas\n",
        "    )\n",
        "\n",
        "    return instancia"
      ],
      "execution_count": null,
      "outputs": []
    },
    {
      "cell_type": "markdown",
      "metadata": {
        "id": "QGdjvDnRxoue"
      },
      "source": [
        "#### Treinamento da Regressão Logística\n"
      ]
    },
    {
      "cell_type": "markdown",
      "metadata": {
        "id": "lfmhmKaWxouf"
      },
      "source": [
        "Primeiro se executa a regressão com parâmetros abaixo e para encontrar a melhor combinação para o conjunto de treino utilizado. A própria regressão logística possui uma métrica interna que calcula a qualidade dos resultados e por isso ela consegue definir o melhor valor por si só"
      ]
    },
    {
      "cell_type": "code",
      "metadata": {
        "colab": {
          "background_save": true
        },
        "id": "co_IxbgJxouf"
      },
      "source": [
        "parametros_fixos_regr_logis = {\n",
        "    'alfa': [0.01, 0.5, 1.0],\n",
        "    'max_iter': [100]\n",
        "}"
      ],
      "execution_count": null,
      "outputs": []
    },
    {
      "cell_type": "code",
      "metadata": {
        "id": "yecL0ckJxouf"
      },
      "source": [
        "melhor_pontuacao, melhores_parametros = validacao_cruzada(\n",
        "    nome_do_modelo='regressao',\n",
        "    dic_parametros=parametros_fixos_regr_logis,\n",
        "    preditores=x_treino,\n",
        "    predicoes=y_treino\n",
        ")"
      ],
      "execution_count": null,
      "outputs": []
    },
    {
      "cell_type": "markdown",
      "metadata": {
        "id": "BENIvf0oxouf"
      },
      "source": [
        "`melhor_pontuacao` se refere à melhor combinação de parâmetros encontrada. Tendo os melhores valores para os parâmetros, treina-se a regressão logística"
      ]
    },
    {
      "cell_type": "code",
      "metadata": {
        "id": "qnMEddKlxoug"
      },
      "source": [
        "modelo_regr_logis = instancia_regressor_logistico(\n",
        "    alfa=melhores_parametros.get('alfa'),\n",
        "    iteracoes_maximas=melhores_parametros.get('max_iter')\n",
        ")\n",
        "modelo_regr_logis.fit(x_treino, y_treino)\n",
        "y_pred = modelo_regr_logis.predict(x_teste)"
      ],
      "execution_count": null,
      "outputs": []
    },
    {
      "cell_type": "code",
      "metadata": {
        "id": "ERCSFZ-Ixoug"
      },
      "source": [
        "y_pred[1]"
      ],
      "execution_count": null,
      "outputs": []
    },
    {
      "cell_type": "markdown",
      "metadata": {
        "id": "3FogtCfNxoug"
      },
      "source": [
        "O próximo passo agora é calcular as métricas de qualidade usando o `y_teste` e o `y_pred`.\n",
        "\n",
        "O `y_teste` é a resposta correta, são as classificações que o modelo precisaria fazer para acertar todas.\n",
        "\n",
        "O `y_pred` foram os resultados que o modelo previu, com base no treino realizado e no conjunto de testes passado."
      ]
    },
    {
      "cell_type": "markdown",
      "metadata": {
        "id": "hS8ZVn3Jxouh"
      },
      "source": [
        "## Cálculo das métricas de qualidade"
      ]
    },
    {
      "cell_type": "code",
      "metadata": {
        "id": "98LHyCHixouh"
      },
      "source": [
        "import numpy as np\n",
        "from sklearn.metrics import accuracy_score, precision_score, silhouette_score\n",
        "from sklearn.metrics import recall_score\n",
        "from sklearn.metrics import confusion_matrix, multilabel_confusion_matrix\n",
        "\n",
        "def calcula_silhueta(dados, predicoes, random_state=None, metrica='euclidean'):\n",
        "    coeficiente = silhouette_score(\n",
        "        dados,\n",
        "        predicoes,\n",
        "        random_state=random_state,\n",
        "        metric=metrica\n",
        "    )\n",
        "    return coeficiente\n",
        "\n",
        "\n",
        "def calcula_matriz_confusao(valor_verdadeiro, predicao, classes):\n",
        "    return confusion_matrix(valor_verdadeiro, predicao,\n",
        "                            labels=np.unique(classes))\n",
        "\n",
        "\n",
        "def calcula_matriz_confusao_multiclasse(valor_verdadeiro, predicao, classes):\n",
        "    return multilabel_confusion_matrix(valor_verdadeiro, predicao,\n",
        "                                       labels=np.unique(classes))\n",
        "\n",
        "\n",
        "def calcula_cobertura(valor_verdadeiro, predicao, classes, metodo):\n",
        "    return recall_score(valor_verdadeiro, predicao, average=metodo,\n",
        "                        labels=np.unique(classes), zero_division=0)\n",
        "\n",
        "\n",
        "def calcula_acuracia(valor_verdadeiro, predicao):\n",
        "    return accuracy_score(valor_verdadeiro, predicao, normalize=True)\n",
        "\n",
        "\n",
        "def calcula_precisao(valor_verdadeiro, predicao, classes, metodo):\n",
        "    return precision_score(valor_verdadeiro, predicao, average=metodo,\n",
        "                           labels=np.unique(classes), zero_division=0)\n"
      ],
      "execution_count": null,
      "outputs": []
    },
    {
      "cell_type": "code",
      "metadata": {
        "id": "E9Y9U4pDxouh"
      },
      "source": [
        "classes = [0, 1]\n",
        "metodo = \"weighted\"\n",
        "acuracia = calcula_acuracia(y_teste, y_pred)\n",
        "precisao = calcula_precisao(y_teste, y_pred, classes, metodo)\n",
        "precisao_por_classe = calcula_precisao(y_teste, y_pred, classes, metodo=None)\n",
        "mat_confusao = calcula_matriz_confusao(y_teste, y_pred, classes)\n",
        "mat_confusao_multiclasse = calcula_matriz_confusao_multiclasse(y_teste, y_pred, classes)\n",
        "cobertura = calcula_cobertura(y_teste, y_pred, classes, metodo)\n",
        "cobertura_por_classe = calcula_cobertura(y_teste, y_pred, classes, metodo=None)"
      ],
      "execution_count": null,
      "outputs": []
    },
    {
      "cell_type": "code",
      "metadata": {
        "id": "gqt0AGcc2zC8"
      },
      "source": [
        "precisao_por_classe"
      ],
      "execution_count": null,
      "outputs": []
    },
    {
      "cell_type": "code",
      "metadata": {
        "id": "FDRnr76Uxouh"
      },
      "source": [
        "acuracia"
      ],
      "execution_count": null,
      "outputs": []
    },
    {
      "cell_type": "code",
      "metadata": {
        "id": "zm862rYi1cwl"
      },
      "source": [
        "mat_confusao_multiclasse[0][0][1]"
      ],
      "execution_count": null,
      "outputs": []
    },
    {
      "cell_type": "code",
      "metadata": {
        "id": "KSmo5TRE0eSD"
      },
      "source": [
        "print(\"true negatives is {} \\n false negatives is  {} \\n  true positives is  {} \\n and false positives is  {} \\n\".format(mat_confusao_multiclasse[0][0][0], mat_confusao_multiclasse[0][1][0], mat_confusao_multiclasse[0][1][1], mat_confusao_multiclasse[0][0][1], ))"
      ],
      "execution_count": null,
      "outputs": []
    },
    {
      "cell_type": "code",
      "metadata": {
        "id": "jVB52Btl19ZY"
      },
      "source": [
        "print(\"true negatives is {} \\n false negatives is  {} \\n  true positives is  {} \\n and false positives is  {} \\n\".format(mat_confusao[0][0], mat_confusao[1][0], mat_confusao[1][1], mat_confusao[0][1], ))"
      ],
      "execution_count": null,
      "outputs": []
    },
    {
      "cell_type": "code",
      "metadata": {
        "id": "_WCEIIkJ2U5Q"
      },
      "source": [
        "print(\"true negatives is {} \\n false negatives is  {} \\n  true positives is  {} \\n and false positives is  {} \\n\".format(mat_confusao_multiclasse[1][0][0], mat_confusao_multiclasse[1][1][0], mat_confusao_multiclasse[1][1][1], mat_confusao_multiclasse[1][0][1], ))"
      ],
      "execution_count": null,
      "outputs": []
    },
    {
      "cell_type": "code",
      "metadata": {
        "id": "JSwA_WC-xoui"
      },
      "source": [
        "precisao"
      ],
      "execution_count": null,
      "outputs": []
    },
    {
      "cell_type": "markdown",
      "metadata": {
        "id": "jM6BuZGmxoui"
      },
      "source": [
        "## Salvar os Resultados Parciais"
      ]
    },
    {
      "cell_type": "code",
      "metadata": {
        "id": "elRpikWFxoui"
      },
      "source": [
        "resultados = {\n",
        "    \"cenario\": [],            \n",
        "    \"tipo_vetorizador\": [],\n",
        "    \"min_df\": [],\n",
        "    \"max_df\": [],\n",
        "    \"ngram_range\": [],\n",
        "    \"n_components\": [],\n",
        "    \"alfa\": [],\n",
        "    \"beta\": [],\n",
        "    \"tipo_distancia\": [],\n",
        "    \"metodo_balanceamento\": [],\n",
        "    \"melhor_pontuacao\": [],\n",
        "    \"melhor_alfa\": [],\n",
        "    \"acuracia\": [],\n",
        "    \"precisao\": [],\n",
        "    \"precisao_por_classe\": [],\n",
        "    \"cobertura\": [],\n",
        "    \"cobertura_por_classe\": [],\n",
        "    \"mat_confusao\": [],\n",
        "    \"mat_confusao_multiclasse\": []\n",
        "}"
      ],
      "execution_count": null,
      "outputs": []
    },
    {
      "cell_type": "code",
      "metadata": {
        "id": "yWO6TujUxouj"
      },
      "source": [
        "for parametro in parametros_vetorizador.keys():\n",
        "    resultados.get(parametro).append(\n",
        "        parametros_vetorizador.get(parametro)\n",
        "    )\n",
        "for parametro in parametros_modelo.keys():\n",
        "    resultados.get(parametro).append(\n",
        "        parametros_modelo.get(parametro)\n",
        "    )\n",
        "for parametro in parametros_regr_log.keys():\n",
        "    resultados.get(parametro).append(\n",
        "        parametros_regr_log.get(parametro)\n",
        "    )"
      ],
      "execution_count": null,
      "outputs": []
    },
    {
      "cell_type": "code",
      "metadata": {
        "id": "nc3MUl38xouj"
      },
      "source": [
        "resultados.get('melhor_pontuacao').append(melhor_pontuacao)\n",
        "resultados.get('melhor_alfa').append(melhores_parametros.get('alfa'))\n",
        "resultados.get('acuracia').append(acuracia)\n",
        "resultados.get('precisao').append(precisao)\n",
        "resultados.get('precisao_por_classe').append(precisao_por_classe)\n",
        "resultados.get('cobertura').append(cobertura)\n",
        "resultados.get('cobertura_por_classe').append(cobertura_por_classe)\n",
        "resultados.get('mat_confusao').append(mat_confusao)\n",
        "resultados.get('mat_confusao_multiclasse').append(mat_confusao_multiclasse)"
      ],
      "execution_count": null,
      "outputs": []
    },
    {
      "cell_type": "code",
      "metadata": {
        "id": "Zjc4xf2Cxouj"
      },
      "source": [
        "resultados"
      ],
      "execution_count": null,
      "outputs": []
    },
    {
      "cell_type": "markdown",
      "metadata": {
        "id": "4Jjbg_H2xouk"
      },
      "source": [
        "Agora, é só criar um dataframe e salvar em um arquivo csv"
      ]
    },
    {
      "cell_type": "code",
      "metadata": {
        "id": "Ex7sYS8mxouk"
      },
      "source": [
        "resultados_parciais = pd.DataFrame(resultados)\n",
        "resultados_parciais.to_csv(\n",
        "    './resultados/experimento_lda.csv',\n",
        "    index=False\n",
        ")"
      ],
      "execution_count": null,
      "outputs": []
    },
    {
      "cell_type": "markdown",
      "metadata": {
        "id": "c7ttBKqgxouk"
      },
      "source": [
        "## Executar KNN\n",
        "A etapa de separar os dados e fazer o balanceamento é igual, o que muda é o treinamento"
      ]
    },
    {
      "cell_type": "code",
      "metadata": {
        "id": "Zx9SRSW5xoul"
      },
      "source": [
        "parametros_knn = {\n",
        "    'n_neighbors': [5, 6, 7, 8, 9, 10],\n",
        "    'weights': ['uniform', 'distance'],\n",
        "    'algorithm': ['brute', 'ball_tree', 'kd_tree']\n",
        "}"
      ],
      "execution_count": null,
      "outputs": []
    },
    {
      "cell_type": "code",
      "metadata": {
        "id": "u6umifPoxoul"
      },
      "source": [
        "def instancia_classificador_knn(k=5, pesos='uniform', algoritmo='brute',\n",
        "                                metrica='minkowski'):\n",
        "    \"\"\"Instancia e retorna um objeto KNeighborsClassifier utilizando seu\n",
        "    s parâmetros.\n",
        "    \"\"\"\n",
        "    instancia = KNeighborsClassifier(\n",
        "        n_neighbors=k,\n",
        "        weights=pesos,\n",
        "        algorithm=algoritmo,\n",
        "        metric=metrica\n",
        "    )\n",
        "\n",
        "    return instancia"
      ],
      "execution_count": null,
      "outputs": []
    },
    {
      "cell_type": "code",
      "metadata": {
        "id": "gIJIfbtgxoum"
      },
      "source": [
        "melhor_pontuacao, melhores_parametros = validacao_cruzada(\n",
        "    nome_do_modelo=\"knn\", \n",
        "    dic_parametros=parametros_knn,\n",
        "    preditores=x_treino,\n",
        "    predicoes=y_treino\n",
        ")\n",
        "\n",
        "knn = instancia_classificador_knn(\n",
        "    k=melhores_parametros['n_neighbors'],\n",
        "    pesos=melhores_parametros['weights'],\n",
        "    algoritmo=melhores_parametros['algorithm']    \n",
        ")\n",
        "\n",
        "knn.fit(x_treino, y_treino)\n",
        "y_pred = knn.predict(x_teste)"
      ],
      "execution_count": null,
      "outputs": []
    },
    {
      "cell_type": "markdown",
      "metadata": {
        "id": "d4V5TDLuxoum"
      },
      "source": [
        "A etapa de calcular as métricas de qualidade também é igual à da regressão logística"
      ]
    },
    {
      "cell_type": "code",
      "metadata": {
        "id": "03W0rYuwxoum"
      },
      "source": [
        "classes = [0, 1]\n",
        "metodo = \"weighted\"\n",
        "acuracia = calcula_acuracia(y_teste, y_pred)\n",
        "precisao = calcula_precisao(y_teste, y_pred, classes, metodo)\n",
        "precisao_por_classe = calcula_precisao(y_teste, y_pred, classes, metodo=None)\n",
        "mat_confusao = calcula_matriz_confusao(y_teste, y_pred, classes)\n",
        "mat_confusao_multiclasse = calcula_matriz_confusao_multiclasse(y_teste, y_pred, classes)\n",
        "cobertura = calcula_cobertura(y_teste, y_pred, classes, metodo)\n",
        "cobertura_por_classe = calcula_cobertura(y_teste, y_pred, classes, metodo=None)"
      ],
      "execution_count": null,
      "outputs": []
    },
    {
      "cell_type": "code",
      "metadata": {
        "id": "ggveet4i8Csv"
      },
      "source": [
        "precisao_por_classe"
      ],
      "execution_count": null,
      "outputs": []
    },
    {
      "cell_type": "markdown",
      "metadata": {
        "id": "gtVwVJSjxoun"
      },
      "source": [
        "Se fosse pra salvar, ia precisar mudar a variável `resultados` de acordo com os parâmetros do knn."
      ]
    }
  ]
}